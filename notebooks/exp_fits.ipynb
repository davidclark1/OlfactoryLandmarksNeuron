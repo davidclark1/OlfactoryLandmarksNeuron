{
 "cells": [
  {
   "cell_type": "markdown",
   "metadata": {},
   "source": [
    "## Generated figures:\n",
    "* n/a\n",
    "\n",
    "This notebook does not generate figures, but rather performs statistical operations related to fitting exponential curves to the PC density-vs-dstance data. "
   ]
  },
  {
   "cell_type": "code",
   "execution_count": 8,
   "metadata": {},
   "outputs": [],
   "source": [
    "import numpy as np\n",
    "import matplotlib.pyplot as plt\n",
    "\n",
    "from scipy.stats import linregress\n",
    "from scipy.optimize import curve_fit\n",
    "\n",
    "from os import sys\n",
    "sys.path.append('..')\n",
    "import style\n",
    "import data_util\n",
    "import plotting_util\n",
    "\n",
    "FIG_DIR = \"../figures/\""
   ]
  },
  {
   "cell_type": "code",
   "execution_count": 11,
   "metadata": {},
   "outputs": [
    {
     "name": "stdout",
     "output_type": "stream",
     "text": [
      "Day 0 0.9723782842045255 0.20120418549321728\n",
      "Day 5 1.4500780376317266 0.17797163887485207\n",
      "p = 0.0371\n"
     ]
    }
   ],
   "source": [
    "np.random.seed(42) #note: different seed used in publication figure\n",
    "\n",
    "def exp_curve_fit(density, start_idx=2, N_bootstraps=10000, show_plot=False):\n",
    "    f = lambda x, A, tau : A*np.exp(-x/tau)\n",
    "    x = (np.arange(40) + .5) * .1\n",
    "    popt, _ = curve_fit(f, x[start_idx:], density[start_idx:])\n",
    "    A, tau = popt\n",
    "    tau_bs_vals = np.zeros(N_bootstraps)\n",
    "    for i in range(N_bootstraps):\n",
    "        idx = np.random.choice(np.arange(start_idx, 40), (40-start_idx), replace=True)\n",
    "        popt_bs, _ = curve_fit(f, x[idx], density[idx])\n",
    "        A_bs, tau_bs = popt_bs\n",
    "        tau_bs_vals[i] = tau_bs\n",
    "    if show_plot:\n",
    "        plt.hist(tau_bs_vals, bins=50)\n",
    "        plt.axvline(tau, c=\"red\")\n",
    "        plt.show()\n",
    "    return tau, np.std(tau_bs_vals), tau_bs_vals\n",
    "\n",
    "density_0 = data_util.get_pc_density_for_day(0) * 100\n",
    "density_5 = data_util.get_pc_density_for_day(5) * 100\n",
    "\n",
    "tau_0, tau_se_0, tau_bs_vals_0 = exp_curve_fit(density_0)\n",
    "tau_5, tau_se_5, tau_bs_vals_5 = exp_curve_fit(density_5)\n",
    "\n",
    "print(\"Day 0\", tau_0, tau_se_0)\n",
    "print(\"Day 5\", tau_5, tau_se_5)\n",
    "\n",
    "delta_tau_bs_vals = tau_bs_vals_0 - tau_bs_vals_5\n",
    "plt.show()\n",
    "print(\"p =\", np.sum(delta_tau_bs_vals > 0.) / len(delta_tau_bs_vals))"
   ]
  },
  {
   "cell_type": "code",
   "execution_count": null,
   "metadata": {},
   "outputs": [],
   "source": []
  },
  {
   "cell_type": "code",
   "execution_count": null,
   "metadata": {},
   "outputs": [],
   "source": []
  },
  {
   "cell_type": "code",
   "execution_count": null,
   "metadata": {},
   "outputs": [],
   "source": []
  }
 ],
 "metadata": {
  "kernelspec": {
   "display_name": "Python 3",
   "language": "python",
   "name": "python3"
  },
  "language_info": {
   "codemirror_mode": {
    "name": "ipython",
    "version": 3
   },
   "file_extension": ".py",
   "mimetype": "text/x-python",
   "name": "python",
   "nbconvert_exporter": "python",
   "pygments_lexer": "ipython3",
   "version": "3.8.10"
  }
 },
 "nbformat": 4,
 "nbformat_minor": 2
}
